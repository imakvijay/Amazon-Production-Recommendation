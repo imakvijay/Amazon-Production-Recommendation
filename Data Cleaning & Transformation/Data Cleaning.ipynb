{
 "cells": [
  {
   "cell_type": "code",
   "execution_count": 1,
   "id": "4d969cd8",
   "metadata": {},
   "outputs": [],
   "source": [
    "# Importing required libraries\n",
    "import sqlite3\n",
    "import pandas as pd\n",
    "import numpy as np"
   ]
  },
  {
   "cell_type": "code",
   "execution_count": 2,
   "id": "8d1f4df8",
   "metadata": {},
   "outputs": [],
   "source": [
    "# DB connection for loading data\n",
    "db_connection = sqlite3.connect('../Data Collection/Data/Database/job_database.db')\n",
    "product_df = pd.read_sql_query('select * from product_info',db_connection)"
   ]
  },
  {
   "cell_type": "code",
   "execution_count": 3,
   "id": "eb056912",
   "metadata": {},
   "outputs": [
    {
     "data": {
      "text/html": [
       "<div>\n",
       "<style scoped>\n",
       "    .dataframe tbody tr th:only-of-type {\n",
       "        vertical-align: middle;\n",
       "    }\n",
       "\n",
       "    .dataframe tbody tr th {\n",
       "        vertical-align: top;\n",
       "    }\n",
       "\n",
       "    .dataframe thead th {\n",
       "        text-align: right;\n",
       "    }\n",
       "</style>\n",
       "<table border=\"1\" class=\"dataframe\">\n",
       "  <thead>\n",
       "    <tr style=\"text-align: right;\">\n",
       "      <th></th>\n",
       "      <th>product_name</th>\n",
       "      <th>rating</th>\n",
       "      <th>no_of_rating</th>\n",
       "      <th>price</th>\n",
       "      <th>color_available</th>\n",
       "      <th>size_available</th>\n",
       "      <th>brand</th>\n",
       "      <th>description</th>\n",
       "      <th>img_src</th>\n",
       "      <th>date</th>\n",
       "      <th>time</th>\n",
       "      <th>link</th>\n",
       "      <th>type</th>\n",
       "    </tr>\n",
       "  </thead>\n",
       "  <tbody>\n",
       "    <tr>\n",
       "      <th>0</th>\n",
       "      <td>MAHA YOGI Hoodies Tie Dye Sweatshirt Long Slee...</td>\n",
       "      <td>4.4 out of 5</td>\n",
       "      <td>33 global ratings</td>\n",
       "      <td>$52.99</td>\n",
       "      <td>Black, Green, Purple, Yellow, Red,</td>\n",
       "      <td>Select, Small, Medium, Large, X-Large, XX-Large,</td>\n",
       "      <td>Visit the MAHA YOGI Store</td>\n",
       "      <td>100% Cotton\\nPull On closure\\nMachine Wash\\nSo...</td>\n",
       "      <td>https://m.media-amazon.com/images/I/71H7f7bn+r...</td>\n",
       "      <td>10/27/2021</td>\n",
       "      <td>14:49:03</td>\n",
       "      <td>https://www.amazon.ca/gp/slredirect/picassoRed...</td>\n",
       "      <td>Hoodie/Sweatshirt</td>\n",
       "    </tr>\n",
       "    <tr>\n",
       "      <th>1</th>\n",
       "      <td>Gildan Men’s Fleece Hooded Sweatshirt, Style G...</td>\n",
       "      <td>4.5 out of 5</td>\n",
       "      <td>23,052 global ratings</td>\n",
       "      <td>$16.99</td>\n",
       "      <td>Charcoal, Red, Royal, White, Forest Green, Mar...</td>\n",
       "      <td>Select, Small, Medium, Large, X-Large, XX-Larg...</td>\n",
       "      <td>Visit the Gildan Store</td>\n",
       "      <td>50% Cotton, 50% Polyester\\nNot\\nPull On closur...</td>\n",
       "      <td>https://m.media-amazon.com/images/I/81GgkxeKGa...</td>\n",
       "      <td>10/27/2021</td>\n",
       "      <td>14:49:36</td>\n",
       "      <td>https://www.amazon.ca/GILDAN-Heavy-Fleece-Hood...</td>\n",
       "      <td>Hoodie/Sweatshirt</td>\n",
       "    </tr>\n",
       "    <tr>\n",
       "      <th>2</th>\n",
       "      <td>Hanes mens Pullover Ultimate Heavyweight Fleec...</td>\n",
       "      <td>4.3 out of 5</td>\n",
       "      <td>16,163 global ratings</td>\n",
       "      <td>$20.80</td>\n",
       "      <td>Oxford Gray, White, Black, Navy, Deep Red, Lig...</td>\n",
       "      <td>Select, Small, Medium, Large, X-Large, XX-Larg...</td>\n",
       "      <td>Visit the Hanes Store</td>\n",
       "      <td>90% Cotton, 10% Polyester\\nPull On closure\\nMa...</td>\n",
       "      <td>https://m.media-amazon.com/images/I/71hlZVUtDu...</td>\n",
       "      <td>10/27/2021</td>\n",
       "      <td>14:49:47</td>\n",
       "      <td>https://www.amazon.ca/Hanes-Pullover-Ultimate-...</td>\n",
       "      <td>Hoodie/Sweatshirt</td>\n",
       "    </tr>\n",
       "    <tr>\n",
       "      <th>3</th>\n",
       "      <td>Gildan Men’s Fleece Crewneck Sweatshirt, Style...</td>\n",
       "      <td>4.6 out of 5</td>\n",
       "      <td>28,281 global ratings</td>\n",
       "      <td>$8.69</td>\n",
       "      <td></td>\n",
       "      <td>Select, Small, Medium, Large, X-Large, XX-Larg...</td>\n",
       "      <td>Visit the Gildan Store</td>\n",
       "      <td>50% Cotton, 50% Polyester\\nPull On closure\\nDo...</td>\n",
       "      <td>https://m.media-amazon.com/images/I/51Jqn1SWiN...</td>\n",
       "      <td>10/27/2021</td>\n",
       "      <td>14:49:57</td>\n",
       "      <td>https://www.amazon.ca/Gildan-Heavy-Blend-Fleec...</td>\n",
       "      <td>Hoodie/Sweatshirt</td>\n",
       "    </tr>\n",
       "    <tr>\n",
       "      <th>4</th>\n",
       "      <td>Hanes Men’s EcoSmart Fleece Sweatshirt</td>\n",
       "      <td>4.5 out of 5</td>\n",
       "      <td>97,423 global ratings</td>\n",
       "      <td>$11.53</td>\n",
       "      <td>Deep Forest, Navy, Ash, Black, Deep Red, Deep ...</td>\n",
       "      <td>Select, X-Small, Small, Medium, Large, X-Large...</td>\n",
       "      <td>Visit the Hanes Store</td>\n",
       "      <td>50% Cotton, 50% Polyester\\nshirts closure\\nMac...</td>\n",
       "      <td>https://m.media-amazon.com/images/I/814VVDEdU2...</td>\n",
       "      <td>10/27/2021</td>\n",
       "      <td>14:50:09</td>\n",
       "      <td>https://www.amazon.ca/Hanes-EcoSmart-Fleece-Sw...</td>\n",
       "      <td>Hoodie/Sweatshirt</td>\n",
       "    </tr>\n",
       "  </tbody>\n",
       "</table>\n",
       "</div>"
      ],
      "text/plain": [
       "                                        product_name        rating  \\\n",
       "0  MAHA YOGI Hoodies Tie Dye Sweatshirt Long Slee...  4.4 out of 5   \n",
       "1  Gildan Men’s Fleece Hooded Sweatshirt, Style G...  4.5 out of 5   \n",
       "2  Hanes mens Pullover Ultimate Heavyweight Fleec...  4.3 out of 5   \n",
       "3  Gildan Men’s Fleece Crewneck Sweatshirt, Style...  4.6 out of 5   \n",
       "4             Hanes Men’s EcoSmart Fleece Sweatshirt  4.5 out of 5   \n",
       "\n",
       "            no_of_rating   price  \\\n",
       "0      33 global ratings  $52.99   \n",
       "1  23,052 global ratings  $16.99   \n",
       "2  16,163 global ratings  $20.80   \n",
       "3  28,281 global ratings   $8.69   \n",
       "4  97,423 global ratings  $11.53   \n",
       "\n",
       "                                     color_available  \\\n",
       "0                Black, Green, Purple, Yellow, Red,    \n",
       "1  Charcoal, Red, Royal, White, Forest Green, Mar...   \n",
       "2  Oxford Gray, White, Black, Navy, Deep Red, Lig...   \n",
       "3                                                      \n",
       "4  Deep Forest, Navy, Ash, Black, Deep Red, Deep ...   \n",
       "\n",
       "                                      size_available  \\\n",
       "0  Select, Small, Medium, Large, X-Large, XX-Large,    \n",
       "1  Select, Small, Medium, Large, X-Large, XX-Larg...   \n",
       "2  Select, Small, Medium, Large, X-Large, XX-Larg...   \n",
       "3  Select, Small, Medium, Large, X-Large, XX-Larg...   \n",
       "4  Select, X-Small, Small, Medium, Large, X-Large...   \n",
       "\n",
       "                       brand  \\\n",
       "0  Visit the MAHA YOGI Store   \n",
       "1     Visit the Gildan Store   \n",
       "2      Visit the Hanes Store   \n",
       "3     Visit the Gildan Store   \n",
       "4      Visit the Hanes Store   \n",
       "\n",
       "                                         description  \\\n",
       "0  100% Cotton\\nPull On closure\\nMachine Wash\\nSo...   \n",
       "1  50% Cotton, 50% Polyester\\nNot\\nPull On closur...   \n",
       "2  90% Cotton, 10% Polyester\\nPull On closure\\nMa...   \n",
       "3  50% Cotton, 50% Polyester\\nPull On closure\\nDo...   \n",
       "4  50% Cotton, 50% Polyester\\nshirts closure\\nMac...   \n",
       "\n",
       "                                             img_src        date      time  \\\n",
       "0  https://m.media-amazon.com/images/I/71H7f7bn+r...  10/27/2021  14:49:03   \n",
       "1  https://m.media-amazon.com/images/I/81GgkxeKGa...  10/27/2021  14:49:36   \n",
       "2  https://m.media-amazon.com/images/I/71hlZVUtDu...  10/27/2021  14:49:47   \n",
       "3  https://m.media-amazon.com/images/I/51Jqn1SWiN...  10/27/2021  14:49:57   \n",
       "4  https://m.media-amazon.com/images/I/814VVDEdU2...  10/27/2021  14:50:09   \n",
       "\n",
       "                                                link               type  \n",
       "0  https://www.amazon.ca/gp/slredirect/picassoRed...  Hoodie/Sweatshirt  \n",
       "1  https://www.amazon.ca/GILDAN-Heavy-Fleece-Hood...  Hoodie/Sweatshirt  \n",
       "2  https://www.amazon.ca/Hanes-Pullover-Ultimate-...  Hoodie/Sweatshirt  \n",
       "3  https://www.amazon.ca/Gildan-Heavy-Blend-Fleec...  Hoodie/Sweatshirt  \n",
       "4  https://www.amazon.ca/Hanes-EcoSmart-Fleece-Sw...  Hoodie/Sweatshirt  "
      ]
     },
     "execution_count": 3,
     "metadata": {},
     "output_type": "execute_result"
    }
   ],
   "source": [
    "product_df.head()"
   ]
  },
  {
   "cell_type": "markdown",
   "id": "5521e9f2",
   "metadata": {},
   "source": [
    "## Rating"
   ]
  },
  {
   "cell_type": "code",
   "execution_count": 4,
   "id": "8a477116",
   "metadata": {},
   "outputs": [
    {
     "data": {
      "text/plain": [
       "0      4.4 out of 5\n",
       "1      4.5 out of 5\n",
       "2      4.3 out of 5\n",
       "3      4.6 out of 5\n",
       "4      4.5 out of 5\n",
       "           ...     \n",
       "995    4.6 out of 5\n",
       "996    4.6 out of 5\n",
       "997    4.7 out of 5\n",
       "998      4 out of 5\n",
       "999    4.1 out of 5\n",
       "Name: rating, Length: 1000, dtype: object"
      ]
     },
     "execution_count": 4,
     "metadata": {},
     "output_type": "execute_result"
    }
   ],
   "source": [
    "product_df['rating']"
   ]
  },
  {
   "cell_type": "code",
   "execution_count": 5,
   "id": "d6eba988",
   "metadata": {},
   "outputs": [
    {
     "data": {
      "text/plain": [
       "0      4.4\n",
       "1      4.5\n",
       "2      4.3\n",
       "3      4.6\n",
       "4      4.5\n",
       "      ... \n",
       "995    4.6\n",
       "996    4.6\n",
       "997    4.7\n",
       "998    4.0\n",
       "999    4.1\n",
       "Name: rating, Length: 1000, dtype: float64"
      ]
     },
     "execution_count": 5,
     "metadata": {},
     "output_type": "execute_result"
    }
   ],
   "source": [
    "product_df['rating'] = product_df['rating'].apply(lambda x: x.split('out')[0])\n",
    "product_df['rating'] = product_df['rating'].astype('float64')\n",
    "product_df['rating']"
   ]
  },
  {
   "cell_type": "code",
   "execution_count": 6,
   "id": "cc57d0d5",
   "metadata": {},
   "outputs": [
    {
     "data": {
      "text/plain": [
       "0          33 global ratings\n",
       "1      23,052 global ratings\n",
       "2      16,163 global ratings\n",
       "3      28,281 global ratings\n",
       "4      97,423 global ratings\n",
       "               ...          \n",
       "995             Total price:\n",
       "996       105 global ratings\n",
       "997       214 global ratings\n",
       "998             Total price:\n",
       "999             Total price:\n",
       "Name: no_of_rating, Length: 1000, dtype: object"
      ]
     },
     "execution_count": 6,
     "metadata": {},
     "output_type": "execute_result"
    }
   ],
   "source": [
    "product_df['no_of_rating']"
   ]
  },
  {
   "cell_type": "code",
   "execution_count": 7,
   "id": "b902a41d",
   "metadata": {},
   "outputs": [
    {
     "data": {
      "text/plain": [
       "0         33.0\n",
       "1      23052.0\n",
       "2      16163.0\n",
       "3      28281.0\n",
       "4      97423.0\n",
       "        ...   \n",
       "995        NaN\n",
       "996      105.0\n",
       "997      214.0\n",
       "998        NaN\n",
       "999        NaN\n",
       "Name: no_of_rating, Length: 1000, dtype: float64"
      ]
     },
     "execution_count": 7,
     "metadata": {},
     "output_type": "execute_result"
    }
   ],
   "source": [
    "product_df['no_of_rating'] = product_df['no_of_rating'].apply(lambda x: x.split(' global')[0])\n",
    "product_df['no_of_rating'] = product_df['no_of_rating'].apply(lambda x: x.replace(',',''))\n",
    "product_df['no_of_rating'] = product_df['no_of_rating'].mask(product_df['no_of_rating'] == 'Total price:')\n",
    "product_df['no_of_rating'] = product_df['no_of_rating'].mask(product_df['no_of_rating'] == 'Size :')\n",
    "product_df['no_of_rating'] = product_df['no_of_rating'].astype('float64')\n",
    "product_df['no_of_rating']"
   ]
  },
  {
   "cell_type": "markdown",
   "id": "323f35b3",
   "metadata": {},
   "source": [
    "## Price"
   ]
  },
  {
   "cell_type": "code",
   "execution_count": 8,
   "id": "15e42f5d",
   "metadata": {},
   "outputs": [
    {
     "data": {
      "text/plain": [
       "0       $52.99\n",
       "1       $16.99\n",
       "2       $20.80\n",
       "3        $8.69\n",
       "4       $11.53\n",
       "        ...   \n",
       "995     $19.99\n",
       "996    $178.99\n",
       "997           \n",
       "998           \n",
       "999           \n",
       "Name: price, Length: 1000, dtype: object"
      ]
     },
     "execution_count": 8,
     "metadata": {},
     "output_type": "execute_result"
    }
   ],
   "source": [
    "product_df['price']"
   ]
  },
  {
   "cell_type": "code",
   "execution_count": 9,
   "id": "e8aeb3c8",
   "metadata": {},
   "outputs": [
    {
     "data": {
      "text/plain": [
       "0       52.99\n",
       "1       16.99\n",
       "2       20.80\n",
       "3        8.69\n",
       "4       11.53\n",
       "        ...  \n",
       "995     19.99\n",
       "996    178.99\n",
       "997       NaN\n",
       "998       NaN\n",
       "999       NaN\n",
       "Name: price, Length: 1000, dtype: float64"
      ]
     },
     "execution_count": 9,
     "metadata": {},
     "output_type": "execute_result"
    }
   ],
   "source": [
    "product_df['price'] = product_df['price'].apply(lambda x: x.split('$')[-1])\n",
    "product_df['price'] = product_df['price'].mask(product_df['price'] == '')\n",
    "product_df['price'] = product_df['price'].replace('[A-Za-z]', np.nan, regex=True) \n",
    "product_df['price'] = product_df['price'].astype('float64')\n",
    "product_df['price']"
   ]
  },
  {
   "cell_type": "markdown",
   "id": "f17991d8",
   "metadata": {},
   "source": [
    "## Color available"
   ]
  },
  {
   "cell_type": "code",
   "execution_count": 10,
   "id": "9e56337c",
   "metadata": {},
   "outputs": [],
   "source": [
    "# distinct colors\n",
    "all_colors = set()\n",
    "\n",
    "for colors in product_df['color_available']:\n",
    "    product_colors = colors.split(', ')[:-1]\n",
    "    for color in product_colors:\n",
    "        all_colors.add(color)"
   ]
  },
  {
   "cell_type": "code",
   "execution_count": 11,
   "id": "b44dafb2",
   "metadata": {},
   "outputs": [
    {
     "data": {
      "text/plain": [
       "(1000, 13)"
      ]
     },
     "execution_count": 11,
     "metadata": {},
     "output_type": "execute_result"
    }
   ],
   "source": [
    "product_df.shape"
   ]
  },
  {
   "cell_type": "code",
   "execution_count": 12,
   "id": "ff5941d8",
   "metadata": {},
   "outputs": [],
   "source": [
    "# Create columns for each color\n",
    "for colors in all_colors:\n",
    "    color_name = 'color_' + colors\n",
    "    product_df[color_name] = 0"
   ]
  },
  {
   "cell_type": "code",
   "execution_count": 13,
   "id": "b3fefd34",
   "metadata": {},
   "outputs": [
    {
     "data": {
      "text/plain": [
       "(1000, 2024)"
      ]
     },
     "execution_count": 13,
     "metadata": {},
     "output_type": "execute_result"
    }
   ],
   "source": [
    "product_df.shape"
   ]
  },
  {
   "cell_type": "code",
   "execution_count": 14,
   "id": "e6840327",
   "metadata": {},
   "outputs": [],
   "source": [
    "for index, row in product_df.iterrows():\n",
    "    product_colors = row['color_available'].split(', ')[:-1]\n",
    "    for color in product_colors:\n",
    "        color_name = 'color_' + color\n",
    "        product_df.loc[index,color_name] = 1\n",
    "        #row[1][color_name] = 1"
   ]
  },
  {
   "cell_type": "code",
   "execution_count": 15,
   "id": "c9213280",
   "metadata": {},
   "outputs": [
    {
     "data": {
      "text/plain": [
       "425"
      ]
     },
     "execution_count": 15,
     "metadata": {},
     "output_type": "execute_result"
    }
   ],
   "source": [
    "# Sample\n",
    "product_df['color_Black'].sum()"
   ]
  },
  {
   "cell_type": "code",
   "execution_count": 16,
   "id": "288e4029",
   "metadata": {},
   "outputs": [
    {
     "data": {
      "text/html": [
       "<div>\n",
       "<style scoped>\n",
       "    .dataframe tbody tr th:only-of-type {\n",
       "        vertical-align: middle;\n",
       "    }\n",
       "\n",
       "    .dataframe tbody tr th {\n",
       "        vertical-align: top;\n",
       "    }\n",
       "\n",
       "    .dataframe thead th {\n",
       "        text-align: right;\n",
       "    }\n",
       "</style>\n",
       "<table border=\"1\" class=\"dataframe\">\n",
       "  <thead>\n",
       "    <tr style=\"text-align: right;\">\n",
       "      <th></th>\n",
       "      <th>product_name</th>\n",
       "      <th>rating</th>\n",
       "      <th>no_of_rating</th>\n",
       "      <th>price</th>\n",
       "      <th>size_available</th>\n",
       "      <th>brand</th>\n",
       "      <th>description</th>\n",
       "      <th>img_src</th>\n",
       "      <th>date</th>\n",
       "      <th>time</th>\n",
       "      <th>...</th>\n",
       "      <th>color_Dodge - Black</th>\n",
       "      <th>color_Bloody Harry</th>\n",
       "      <th>color_White Shine</th>\n",
       "      <th>color_Banta Lantana Red</th>\n",
       "      <th>color_Magenta</th>\n",
       "      <th>color_Dove</th>\n",
       "      <th>color_Black 2</th>\n",
       "      <th>color_Red Snow Globe</th>\n",
       "      <th>color_Charcoal</th>\n",
       "      <th>color_Mountain Red/Graphite</th>\n",
       "    </tr>\n",
       "  </thead>\n",
       "  <tbody>\n",
       "    <tr>\n",
       "      <th>0</th>\n",
       "      <td>MAHA YOGI Hoodies Tie Dye Sweatshirt Long Slee...</td>\n",
       "      <td>4.4</td>\n",
       "      <td>33.0</td>\n",
       "      <td>52.99</td>\n",
       "      <td>Select, Small, Medium, Large, X-Large, XX-Large,</td>\n",
       "      <td>Visit the MAHA YOGI Store</td>\n",
       "      <td>100% Cotton\\nPull On closure\\nMachine Wash\\nSo...</td>\n",
       "      <td>https://m.media-amazon.com/images/I/71H7f7bn+r...</td>\n",
       "      <td>10/27/2021</td>\n",
       "      <td>14:49:03</td>\n",
       "      <td>...</td>\n",
       "      <td>0</td>\n",
       "      <td>0</td>\n",
       "      <td>0</td>\n",
       "      <td>0</td>\n",
       "      <td>0</td>\n",
       "      <td>0</td>\n",
       "      <td>0</td>\n",
       "      <td>0</td>\n",
       "      <td>0</td>\n",
       "      <td>0</td>\n",
       "    </tr>\n",
       "    <tr>\n",
       "      <th>1</th>\n",
       "      <td>Gildan Men’s Fleece Hooded Sweatshirt, Style G...</td>\n",
       "      <td>4.5</td>\n",
       "      <td>23052.0</td>\n",
       "      <td>16.99</td>\n",
       "      <td>Select, Small, Medium, Large, X-Large, XX-Larg...</td>\n",
       "      <td>Visit the Gildan Store</td>\n",
       "      <td>50% Cotton, 50% Polyester\\nNot\\nPull On closur...</td>\n",
       "      <td>https://m.media-amazon.com/images/I/81GgkxeKGa...</td>\n",
       "      <td>10/27/2021</td>\n",
       "      <td>14:49:36</td>\n",
       "      <td>...</td>\n",
       "      <td>0</td>\n",
       "      <td>0</td>\n",
       "      <td>0</td>\n",
       "      <td>0</td>\n",
       "      <td>0</td>\n",
       "      <td>0</td>\n",
       "      <td>0</td>\n",
       "      <td>0</td>\n",
       "      <td>1</td>\n",
       "      <td>0</td>\n",
       "    </tr>\n",
       "    <tr>\n",
       "      <th>2</th>\n",
       "      <td>Hanes mens Pullover Ultimate Heavyweight Fleec...</td>\n",
       "      <td>4.3</td>\n",
       "      <td>16163.0</td>\n",
       "      <td>20.80</td>\n",
       "      <td>Select, Small, Medium, Large, X-Large, XX-Larg...</td>\n",
       "      <td>Visit the Hanes Store</td>\n",
       "      <td>90% Cotton, 10% Polyester\\nPull On closure\\nMa...</td>\n",
       "      <td>https://m.media-amazon.com/images/I/71hlZVUtDu...</td>\n",
       "      <td>10/27/2021</td>\n",
       "      <td>14:49:47</td>\n",
       "      <td>...</td>\n",
       "      <td>0</td>\n",
       "      <td>0</td>\n",
       "      <td>0</td>\n",
       "      <td>0</td>\n",
       "      <td>0</td>\n",
       "      <td>0</td>\n",
       "      <td>0</td>\n",
       "      <td>0</td>\n",
       "      <td>0</td>\n",
       "      <td>0</td>\n",
       "    </tr>\n",
       "    <tr>\n",
       "      <th>3</th>\n",
       "      <td>Gildan Men’s Fleece Crewneck Sweatshirt, Style...</td>\n",
       "      <td>4.6</td>\n",
       "      <td>28281.0</td>\n",
       "      <td>8.69</td>\n",
       "      <td>Select, Small, Medium, Large, X-Large, XX-Larg...</td>\n",
       "      <td>Visit the Gildan Store</td>\n",
       "      <td>50% Cotton, 50% Polyester\\nPull On closure\\nDo...</td>\n",
       "      <td>https://m.media-amazon.com/images/I/51Jqn1SWiN...</td>\n",
       "      <td>10/27/2021</td>\n",
       "      <td>14:49:57</td>\n",
       "      <td>...</td>\n",
       "      <td>0</td>\n",
       "      <td>0</td>\n",
       "      <td>0</td>\n",
       "      <td>0</td>\n",
       "      <td>0</td>\n",
       "      <td>0</td>\n",
       "      <td>0</td>\n",
       "      <td>0</td>\n",
       "      <td>0</td>\n",
       "      <td>0</td>\n",
       "    </tr>\n",
       "    <tr>\n",
       "      <th>4</th>\n",
       "      <td>Hanes Men’s EcoSmart Fleece Sweatshirt</td>\n",
       "      <td>4.5</td>\n",
       "      <td>97423.0</td>\n",
       "      <td>11.53</td>\n",
       "      <td>Select, X-Small, Small, Medium, Large, X-Large...</td>\n",
       "      <td>Visit the Hanes Store</td>\n",
       "      <td>50% Cotton, 50% Polyester\\nshirts closure\\nMac...</td>\n",
       "      <td>https://m.media-amazon.com/images/I/814VVDEdU2...</td>\n",
       "      <td>10/27/2021</td>\n",
       "      <td>14:50:09</td>\n",
       "      <td>...</td>\n",
       "      <td>0</td>\n",
       "      <td>0</td>\n",
       "      <td>0</td>\n",
       "      <td>0</td>\n",
       "      <td>0</td>\n",
       "      <td>0</td>\n",
       "      <td>0</td>\n",
       "      <td>0</td>\n",
       "      <td>1</td>\n",
       "      <td>0</td>\n",
       "    </tr>\n",
       "  </tbody>\n",
       "</table>\n",
       "<p>5 rows × 2023 columns</p>\n",
       "</div>"
      ],
      "text/plain": [
       "                                        product_name  rating  no_of_rating  \\\n",
       "0  MAHA YOGI Hoodies Tie Dye Sweatshirt Long Slee...     4.4          33.0   \n",
       "1  Gildan Men’s Fleece Hooded Sweatshirt, Style G...     4.5       23052.0   \n",
       "2  Hanes mens Pullover Ultimate Heavyweight Fleec...     4.3       16163.0   \n",
       "3  Gildan Men’s Fleece Crewneck Sweatshirt, Style...     4.6       28281.0   \n",
       "4             Hanes Men’s EcoSmart Fleece Sweatshirt     4.5       97423.0   \n",
       "\n",
       "   price                                     size_available  \\\n",
       "0  52.99  Select, Small, Medium, Large, X-Large, XX-Large,    \n",
       "1  16.99  Select, Small, Medium, Large, X-Large, XX-Larg...   \n",
       "2  20.80  Select, Small, Medium, Large, X-Large, XX-Larg...   \n",
       "3   8.69  Select, Small, Medium, Large, X-Large, XX-Larg...   \n",
       "4  11.53  Select, X-Small, Small, Medium, Large, X-Large...   \n",
       "\n",
       "                       brand  \\\n",
       "0  Visit the MAHA YOGI Store   \n",
       "1     Visit the Gildan Store   \n",
       "2      Visit the Hanes Store   \n",
       "3     Visit the Gildan Store   \n",
       "4      Visit the Hanes Store   \n",
       "\n",
       "                                         description  \\\n",
       "0  100% Cotton\\nPull On closure\\nMachine Wash\\nSo...   \n",
       "1  50% Cotton, 50% Polyester\\nNot\\nPull On closur...   \n",
       "2  90% Cotton, 10% Polyester\\nPull On closure\\nMa...   \n",
       "3  50% Cotton, 50% Polyester\\nPull On closure\\nDo...   \n",
       "4  50% Cotton, 50% Polyester\\nshirts closure\\nMac...   \n",
       "\n",
       "                                             img_src        date      time  \\\n",
       "0  https://m.media-amazon.com/images/I/71H7f7bn+r...  10/27/2021  14:49:03   \n",
       "1  https://m.media-amazon.com/images/I/81GgkxeKGa...  10/27/2021  14:49:36   \n",
       "2  https://m.media-amazon.com/images/I/71hlZVUtDu...  10/27/2021  14:49:47   \n",
       "3  https://m.media-amazon.com/images/I/51Jqn1SWiN...  10/27/2021  14:49:57   \n",
       "4  https://m.media-amazon.com/images/I/814VVDEdU2...  10/27/2021  14:50:09   \n",
       "\n",
       "   ... color_Dodge - Black color_Bloody Harry  color_White Shine  \\\n",
       "0  ...                   0                  0                  0   \n",
       "1  ...                   0                  0                  0   \n",
       "2  ...                   0                  0                  0   \n",
       "3  ...                   0                  0                  0   \n",
       "4  ...                   0                  0                  0   \n",
       "\n",
       "   color_Banta Lantana Red  color_Magenta  color_Dove  color_Black 2  \\\n",
       "0                        0              0           0              0   \n",
       "1                        0              0           0              0   \n",
       "2                        0              0           0              0   \n",
       "3                        0              0           0              0   \n",
       "4                        0              0           0              0   \n",
       "\n",
       "   color_Red Snow Globe  color_Charcoal  color_Mountain Red/Graphite  \n",
       "0                     0               0                            0  \n",
       "1                     0               1                            0  \n",
       "2                     0               0                            0  \n",
       "3                     0               0                            0  \n",
       "4                     0               1                            0  \n",
       "\n",
       "[5 rows x 2023 columns]"
      ]
     },
     "execution_count": 16,
     "metadata": {},
     "output_type": "execute_result"
    }
   ],
   "source": [
    "product_df.drop('color_available', axis=1, inplace=True)\n",
    "product_df.head()"
   ]
  },
  {
   "cell_type": "markdown",
   "id": "a5e66bee",
   "metadata": {},
   "source": [
    "## Size available"
   ]
  },
  {
   "cell_type": "code",
   "execution_count": 17,
   "id": "4074a452",
   "metadata": {},
   "outputs": [],
   "source": [
    "# distinct size\n",
    "all_sizes = set()\n",
    "\n",
    "for sizes in product_df['size_available']:\n",
    "    product_sizes = sizes.split(', ')[:-1]\n",
    "    for size in product_sizes:\n",
    "        all_sizes.add(size)"
   ]
  },
  {
   "cell_type": "code",
   "execution_count": 18,
   "id": "53f9b6f8",
   "metadata": {},
   "outputs": [
    {
     "data": {
      "text/plain": [
       "(1000, 2023)"
      ]
     },
     "execution_count": 18,
     "metadata": {},
     "output_type": "execute_result"
    }
   ],
   "source": [
    "product_df.shape"
   ]
  },
  {
   "cell_type": "code",
   "execution_count": 19,
   "id": "f1404dc4",
   "metadata": {},
   "outputs": [],
   "source": [
    "# Create columns for each size\n",
    "for sizes in all_sizes:\n",
    "    size_name = 'size_' + sizes\n",
    "    product_df[size_name] = 0"
   ]
  },
  {
   "cell_type": "code",
   "execution_count": 20,
   "id": "1c59e8e4",
   "metadata": {},
   "outputs": [],
   "source": [
    "for index, row in product_df.iterrows():\n",
    "    product_sizes = row['size_available'].split(', ')[:-1]\n",
    "    for sizes in product_sizes:\n",
    "        size_name = 'size_' + sizes\n",
    "        product_df.loc[index,size_name] = 1"
   ]
  },
  {
   "cell_type": "code",
   "execution_count": 21,
   "id": "b7db8adf",
   "metadata": {},
   "outputs": [
    {
     "data": {
      "text/plain": [
       "(1000, 2633)"
      ]
     },
     "execution_count": 21,
     "metadata": {},
     "output_type": "execute_result"
    }
   ],
   "source": [
    "product_df.shape"
   ]
  },
  {
   "cell_type": "code",
   "execution_count": 22,
   "id": "39d899a8",
   "metadata": {},
   "outputs": [
    {
     "data": {
      "text/plain": [
       "507"
      ]
     },
     "execution_count": 22,
     "metadata": {},
     "output_type": "execute_result"
    }
   ],
   "source": [
    "# Sample\n",
    "product_df['size_Large'].sum()"
   ]
  },
  {
   "cell_type": "code",
   "execution_count": 23,
   "id": "aa1fc191",
   "metadata": {},
   "outputs": [
    {
     "data": {
      "text/html": [
       "<div>\n",
       "<style scoped>\n",
       "    .dataframe tbody tr th:only-of-type {\n",
       "        vertical-align: middle;\n",
       "    }\n",
       "\n",
       "    .dataframe tbody tr th {\n",
       "        vertical-align: top;\n",
       "    }\n",
       "\n",
       "    .dataframe thead th {\n",
       "        text-align: right;\n",
       "    }\n",
       "</style>\n",
       "<table border=\"1\" class=\"dataframe\">\n",
       "  <thead>\n",
       "    <tr style=\"text-align: right;\">\n",
       "      <th></th>\n",
       "      <th>product_name</th>\n",
       "      <th>rating</th>\n",
       "      <th>no_of_rating</th>\n",
       "      <th>price</th>\n",
       "      <th>brand</th>\n",
       "      <th>description</th>\n",
       "      <th>img_src</th>\n",
       "      <th>date</th>\n",
       "      <th>time</th>\n",
       "      <th>link</th>\n",
       "      <th>...</th>\n",
       "      <th>size_28 Short</th>\n",
       "      <th>size_52</th>\n",
       "      <th>size_US 36 Regular/ 32 Waist (Asian XXL)</th>\n",
       "      <th>size_54W x 10L - Big</th>\n",
       "      <th>size_2XL(chest 48 inch-50inch)</th>\n",
       "      <th>size_48 Long 42 Pants</th>\n",
       "      <th>size_33L x 32W</th>\n",
       "      <th>size_50W x 10L - Big</th>\n",
       "      <th>size_M (suitable for 40-42 inches chest)</th>\n",
       "      <th>size_34 Short 28 Pants</th>\n",
       "    </tr>\n",
       "  </thead>\n",
       "  <tbody>\n",
       "    <tr>\n",
       "      <th>0</th>\n",
       "      <td>MAHA YOGI Hoodies Tie Dye Sweatshirt Long Slee...</td>\n",
       "      <td>4.4</td>\n",
       "      <td>33.0</td>\n",
       "      <td>52.99</td>\n",
       "      <td>Visit the MAHA YOGI Store</td>\n",
       "      <td>100% Cotton\\nPull On closure\\nMachine Wash\\nSo...</td>\n",
       "      <td>https://m.media-amazon.com/images/I/71H7f7bn+r...</td>\n",
       "      <td>10/27/2021</td>\n",
       "      <td>14:49:03</td>\n",
       "      <td>https://www.amazon.ca/gp/slredirect/picassoRed...</td>\n",
       "      <td>...</td>\n",
       "      <td>0</td>\n",
       "      <td>0</td>\n",
       "      <td>0</td>\n",
       "      <td>0</td>\n",
       "      <td>0</td>\n",
       "      <td>0</td>\n",
       "      <td>0</td>\n",
       "      <td>0</td>\n",
       "      <td>0</td>\n",
       "      <td>0</td>\n",
       "    </tr>\n",
       "    <tr>\n",
       "      <th>1</th>\n",
       "      <td>Gildan Men’s Fleece Hooded Sweatshirt, Style G...</td>\n",
       "      <td>4.5</td>\n",
       "      <td>23052.0</td>\n",
       "      <td>16.99</td>\n",
       "      <td>Visit the Gildan Store</td>\n",
       "      <td>50% Cotton, 50% Polyester\\nNot\\nPull On closur...</td>\n",
       "      <td>https://m.media-amazon.com/images/I/81GgkxeKGa...</td>\n",
       "      <td>10/27/2021</td>\n",
       "      <td>14:49:36</td>\n",
       "      <td>https://www.amazon.ca/GILDAN-Heavy-Fleece-Hood...</td>\n",
       "      <td>...</td>\n",
       "      <td>0</td>\n",
       "      <td>0</td>\n",
       "      <td>0</td>\n",
       "      <td>0</td>\n",
       "      <td>0</td>\n",
       "      <td>0</td>\n",
       "      <td>0</td>\n",
       "      <td>0</td>\n",
       "      <td>0</td>\n",
       "      <td>0</td>\n",
       "    </tr>\n",
       "    <tr>\n",
       "      <th>2</th>\n",
       "      <td>Hanes mens Pullover Ultimate Heavyweight Fleec...</td>\n",
       "      <td>4.3</td>\n",
       "      <td>16163.0</td>\n",
       "      <td>20.80</td>\n",
       "      <td>Visit the Hanes Store</td>\n",
       "      <td>90% Cotton, 10% Polyester\\nPull On closure\\nMa...</td>\n",
       "      <td>https://m.media-amazon.com/images/I/71hlZVUtDu...</td>\n",
       "      <td>10/27/2021</td>\n",
       "      <td>14:49:47</td>\n",
       "      <td>https://www.amazon.ca/Hanes-Pullover-Ultimate-...</td>\n",
       "      <td>...</td>\n",
       "      <td>0</td>\n",
       "      <td>0</td>\n",
       "      <td>0</td>\n",
       "      <td>0</td>\n",
       "      <td>0</td>\n",
       "      <td>0</td>\n",
       "      <td>0</td>\n",
       "      <td>0</td>\n",
       "      <td>0</td>\n",
       "      <td>0</td>\n",
       "    </tr>\n",
       "    <tr>\n",
       "      <th>3</th>\n",
       "      <td>Gildan Men’s Fleece Crewneck Sweatshirt, Style...</td>\n",
       "      <td>4.6</td>\n",
       "      <td>28281.0</td>\n",
       "      <td>8.69</td>\n",
       "      <td>Visit the Gildan Store</td>\n",
       "      <td>50% Cotton, 50% Polyester\\nPull On closure\\nDo...</td>\n",
       "      <td>https://m.media-amazon.com/images/I/51Jqn1SWiN...</td>\n",
       "      <td>10/27/2021</td>\n",
       "      <td>14:49:57</td>\n",
       "      <td>https://www.amazon.ca/Gildan-Heavy-Blend-Fleec...</td>\n",
       "      <td>...</td>\n",
       "      <td>0</td>\n",
       "      <td>0</td>\n",
       "      <td>0</td>\n",
       "      <td>0</td>\n",
       "      <td>0</td>\n",
       "      <td>0</td>\n",
       "      <td>0</td>\n",
       "      <td>0</td>\n",
       "      <td>0</td>\n",
       "      <td>0</td>\n",
       "    </tr>\n",
       "    <tr>\n",
       "      <th>4</th>\n",
       "      <td>Hanes Men’s EcoSmart Fleece Sweatshirt</td>\n",
       "      <td>4.5</td>\n",
       "      <td>97423.0</td>\n",
       "      <td>11.53</td>\n",
       "      <td>Visit the Hanes Store</td>\n",
       "      <td>50% Cotton, 50% Polyester\\nshirts closure\\nMac...</td>\n",
       "      <td>https://m.media-amazon.com/images/I/814VVDEdU2...</td>\n",
       "      <td>10/27/2021</td>\n",
       "      <td>14:50:09</td>\n",
       "      <td>https://www.amazon.ca/Hanes-EcoSmart-Fleece-Sw...</td>\n",
       "      <td>...</td>\n",
       "      <td>0</td>\n",
       "      <td>0</td>\n",
       "      <td>0</td>\n",
       "      <td>0</td>\n",
       "      <td>0</td>\n",
       "      <td>0</td>\n",
       "      <td>0</td>\n",
       "      <td>0</td>\n",
       "      <td>0</td>\n",
       "      <td>0</td>\n",
       "    </tr>\n",
       "  </tbody>\n",
       "</table>\n",
       "<p>5 rows × 2632 columns</p>\n",
       "</div>"
      ],
      "text/plain": [
       "                                        product_name  rating  no_of_rating  \\\n",
       "0  MAHA YOGI Hoodies Tie Dye Sweatshirt Long Slee...     4.4          33.0   \n",
       "1  Gildan Men’s Fleece Hooded Sweatshirt, Style G...     4.5       23052.0   \n",
       "2  Hanes mens Pullover Ultimate Heavyweight Fleec...     4.3       16163.0   \n",
       "3  Gildan Men’s Fleece Crewneck Sweatshirt, Style...     4.6       28281.0   \n",
       "4             Hanes Men’s EcoSmart Fleece Sweatshirt     4.5       97423.0   \n",
       "\n",
       "   price                      brand  \\\n",
       "0  52.99  Visit the MAHA YOGI Store   \n",
       "1  16.99     Visit the Gildan Store   \n",
       "2  20.80      Visit the Hanes Store   \n",
       "3   8.69     Visit the Gildan Store   \n",
       "4  11.53      Visit the Hanes Store   \n",
       "\n",
       "                                         description  \\\n",
       "0  100% Cotton\\nPull On closure\\nMachine Wash\\nSo...   \n",
       "1  50% Cotton, 50% Polyester\\nNot\\nPull On closur...   \n",
       "2  90% Cotton, 10% Polyester\\nPull On closure\\nMa...   \n",
       "3  50% Cotton, 50% Polyester\\nPull On closure\\nDo...   \n",
       "4  50% Cotton, 50% Polyester\\nshirts closure\\nMac...   \n",
       "\n",
       "                                             img_src        date      time  \\\n",
       "0  https://m.media-amazon.com/images/I/71H7f7bn+r...  10/27/2021  14:49:03   \n",
       "1  https://m.media-amazon.com/images/I/81GgkxeKGa...  10/27/2021  14:49:36   \n",
       "2  https://m.media-amazon.com/images/I/71hlZVUtDu...  10/27/2021  14:49:47   \n",
       "3  https://m.media-amazon.com/images/I/51Jqn1SWiN...  10/27/2021  14:49:57   \n",
       "4  https://m.media-amazon.com/images/I/814VVDEdU2...  10/27/2021  14:50:09   \n",
       "\n",
       "                                                link  ... size_28 Short  \\\n",
       "0  https://www.amazon.ca/gp/slredirect/picassoRed...  ...             0   \n",
       "1  https://www.amazon.ca/GILDAN-Heavy-Fleece-Hood...  ...             0   \n",
       "2  https://www.amazon.ca/Hanes-Pullover-Ultimate-...  ...             0   \n",
       "3  https://www.amazon.ca/Gildan-Heavy-Blend-Fleec...  ...             0   \n",
       "4  https://www.amazon.ca/Hanes-EcoSmart-Fleece-Sw...  ...             0   \n",
       "\n",
       "   size_52  size_US 36 Regular/ 32 Waist (Asian XXL)  size_54W x 10L - Big  \\\n",
       "0        0                                         0                     0   \n",
       "1        0                                         0                     0   \n",
       "2        0                                         0                     0   \n",
       "3        0                                         0                     0   \n",
       "4        0                                         0                     0   \n",
       "\n",
       "   size_2XL(chest 48 inch-50inch)  size_48 Long 42 Pants  size_33L x 32W  \\\n",
       "0                               0                      0               0   \n",
       "1                               0                      0               0   \n",
       "2                               0                      0               0   \n",
       "3                               0                      0               0   \n",
       "4                               0                      0               0   \n",
       "\n",
       "   size_50W x 10L - Big  size_M (suitable for 40-42 inches chest)  \\\n",
       "0                     0                                         0   \n",
       "1                     0                                         0   \n",
       "2                     0                                         0   \n",
       "3                     0                                         0   \n",
       "4                     0                                         0   \n",
       "\n",
       "   size_34 Short 28 Pants  \n",
       "0                       0  \n",
       "1                       0  \n",
       "2                       0  \n",
       "3                       0  \n",
       "4                       0  \n",
       "\n",
       "[5 rows x 2632 columns]"
      ]
     },
     "execution_count": 23,
     "metadata": {},
     "output_type": "execute_result"
    }
   ],
   "source": [
    "product_df.drop('size_available', axis=1, inplace=True)\n",
    "product_df.head()"
   ]
  },
  {
   "cell_type": "markdown",
   "id": "6019866c",
   "metadata": {},
   "source": [
    "## Brand"
   ]
  },
  {
   "cell_type": "code",
   "execution_count": 24,
   "id": "c7ec6f6a",
   "metadata": {},
   "outputs": [
    {
     "data": {
      "text/plain": [
       "0      Visit the MAHA YOGI Store\n",
       "1         Visit the Gildan Store\n",
       "2          Visit the Hanes Store\n",
       "3         Visit the Gildan Store\n",
       "4          Visit the Hanes Store\n",
       "                 ...            \n",
       "995               Brand: Wildoor\n",
       "996     Visit the Carhartt Store\n",
       "997                             \n",
       "998                             \n",
       "999                             \n",
       "Name: brand, Length: 1000, dtype: object"
      ]
     },
     "execution_count": 24,
     "metadata": {},
     "output_type": "execute_result"
    }
   ],
   "source": [
    "product_df['brand']"
   ]
  },
  {
   "cell_type": "code",
   "execution_count": 25,
   "id": "2205b29e",
   "metadata": {},
   "outputs": [
    {
     "data": {
      "text/plain": [
       "0      MAHA YOGI Store\n",
       "1         Gildan Store\n",
       "2          Hanes Store\n",
       "3         Gildan Store\n",
       "4          Hanes Store\n",
       "            ...       \n",
       "995            Wildoor\n",
       "996     Carhartt Store\n",
       "997                   \n",
       "998                   \n",
       "999                   \n",
       "Name: brand, Length: 1000, dtype: object"
      ]
     },
     "execution_count": 25,
     "metadata": {},
     "output_type": "execute_result"
    }
   ],
   "source": [
    "product_df['brand'] = product_df['brand'].replace('Visit the ', '', regex=True)\n",
    "product_df['brand'] = product_df['brand'].replace('Brand: ', '', regex=True)\n",
    "product_df['brand']"
   ]
  },
  {
   "cell_type": "code",
   "execution_count": 26,
   "id": "23b95e3b",
   "metadata": {},
   "outputs": [],
   "source": [
    "product_df = pd.get_dummies(product_df, columns=['brand'])"
   ]
  },
  {
   "cell_type": "markdown",
   "id": "c464db07",
   "metadata": {},
   "source": [
    "## Type"
   ]
  },
  {
   "cell_type": "code",
   "execution_count": 27,
   "id": "f474f9f1",
   "metadata": {},
   "outputs": [],
   "source": [
    "product_df =  pd.get_dummies(product_df, columns=['type'])"
   ]
  },
  {
   "cell_type": "markdown",
   "id": "87279125",
   "metadata": {},
   "source": [
    "## Storing cleaned data"
   ]
  },
  {
   "cell_type": "code",
   "execution_count": 28,
   "id": "87968690",
   "metadata": {},
   "outputs": [],
   "source": [
    "product_df.to_csv('Data/cleaned_product_data.csv',index=False)"
   ]
  }
 ],
 "metadata": {
  "kernelspec": {
   "display_name": "Python 3",
   "language": "python",
   "name": "python3"
  },
  "language_info": {
   "codemirror_mode": {
    "name": "ipython",
    "version": 3
   },
   "file_extension": ".py",
   "mimetype": "text/x-python",
   "name": "python",
   "nbconvert_exporter": "python",
   "pygments_lexer": "ipython3",
   "version": "3.8.3"
  }
 },
 "nbformat": 4,
 "nbformat_minor": 5
}
